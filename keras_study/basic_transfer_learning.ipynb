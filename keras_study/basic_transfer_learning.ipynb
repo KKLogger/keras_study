{
 "cells": [
  {
   "cell_type": "code",
   "execution_count": 3,
   "metadata": {},
   "outputs": [
    {
     "name": "stdout",
     "output_type": "stream",
     "text": [
      "Downloading data from https://storage.googleapis.com/tensorflow/keras-applications/vgg16/vgg16_weights_tf_dim_ordering_tf_kernels_notop.h5\n",
      "58892288/58889256 [==============================] - 5s 0us/step\n",
      "Model: \"sequential\"\n",
      "_________________________________________________________________\n",
      "Layer (type)                 Output Shape              Param #   \n",
      "=================================================================\n",
      "vgg16 (Functional)           (None, 1, 1, 512)         14714688  \n",
      "_________________________________________________________________\n",
      "flatten (Flatten)            (None, 512)               0         \n",
      "_________________________________________________________________\n",
      "dense (Dense)                (None, 256)               131328    \n",
      "_________________________________________________________________\n",
      "batch_normalization (BatchNo (None, 256)               1024      \n",
      "_________________________________________________________________\n",
      "activation (Activation)      (None, 256)               0         \n",
      "_________________________________________________________________\n",
      "dense_1 (Dense)              (None, 10)                2570      \n",
      "=================================================================\n",
      "Total params: 14,849,610\n",
      "Trainable params: 14,849,098\n",
      "Non-trainable params: 512\n",
      "_________________________________________________________________\n"
     ]
    }
   ],
   "source": [
    "from tensorflow.keras.models import Sequential\n",
    "from tensorflow.keras.layers import Conv2D,MaxPool2D,Dense,Flatten,BatchNormalization,Activation\n",
    "from tensorflow.keras.optimizers import Adam\n",
    "from tensorflow.keras.applications import *\n",
    "\n",
    "#ImageNet 데이터를 학습한 모델을 불러온다 ( 사전 학습 )\n",
    "\n",
    "vgg16 = VGG16(weights = \"imagenet\",input_shape = (32,32,3),include_top = False)\n",
    "mobilenet = MobileNet(weights = \"imagenet\",input_shape = (32,32,3),include_top = True)\n",
    "resnet50 = ResNet50(weights = \"imagenet\",input_shape = (32,32,3),include_top = True)\n",
    "xception = Xception(weights = \"imagenet\",input_shape = (32,32,3),include_top = True)\n",
    "\n",
    "model = Sequential()\n",
    "model.add(vgg16)\n",
    "\n",
    "# 분류기 직접 정의\n",
    "model.add(Flatten())\n",
    "model.add(Dense(256))\n",
    "model.add(BatchNormalization())\n",
    "model.add(Activation(\"relu\"))\n",
    "model.add(Dense(10,activation =\"softmax\"))\n",
    "\n",
    "model.summary()"
   ]
  },
  {
   "cell_type": "code",
   "execution_count": null,
   "metadata": {},
   "outputs": [],
   "source": [
    "# 동결 해제하기\n",
    "for layer in vgg16.layers[:-4]:\n",
    "    layer.trainable = False\n",
    "    "
   ]
  }
 ],
 "metadata": {
  "kernelspec": {
   "display_name": "keras_study",
   "language": "python",
   "name": "keras_study"
  },
  "language_info": {
   "codemirror_mode": {
    "name": "ipython",
    "version": 3
   },
   "file_extension": ".py",
   "mimetype": "text/x-python",
   "name": "python",
   "nbconvert_exporter": "python",
   "pygments_lexer": "ipython3",
   "version": "3.8.3"
  }
 },
 "nbformat": 4,
 "nbformat_minor": 4
}
