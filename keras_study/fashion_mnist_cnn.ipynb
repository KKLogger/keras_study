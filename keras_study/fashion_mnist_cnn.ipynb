{
 "cells": [
  {
   "cell_type": "code",
   "execution_count": 1,
   "metadata": {},
   "outputs": [],
   "source": [
    "#데이터 가져오기\n",
    "from tensorflow.keras.datasets import fashion_mnist\n",
    "\n",
    "(x_train,y_train),(x_test,y_test) = fashion_mnist.load_data()"
   ]
  },
  {
   "cell_type": "code",
   "execution_count": 2,
   "metadata": {},
   "outputs": [],
   "source": [
    "#무작위 데이터 만들기\n",
    "import matplotlib.pyplot as plt\n",
    "import numpy as np\n",
    "np.random.seed(777)\n",
    "\n",
    "sample_size = 9\n",
    "random_idx = np.random.randint(60000,size=sample_size)"
   ]
  },
  {
   "cell_type": "code",
   "execution_count": 3,
   "metadata": {},
   "outputs": [],
   "source": [
    "# 데이터 전처리\n",
    "class_names = ['T-shirt/top','Trouser','Pullover','Dress','Coat','Sandal','Shirt','Sneaker','Bag','Ankle boot']\n",
    "#  X data 룰 0 ~ 1 사이의 값으로 만든다\n",
    "x_train = np.reshape(x_train/255,(-1,28,28,1))\n",
    "x_test = np.reshape(x_test/255,(-1,28,28,1))\n",
    "\n",
    "from tensorflow.keras.utils import to_categorical\n",
    "\n",
    "y_train = to_categorical(y_train)\n",
    "y_test = to_categorical(y_test)\n",
    "\n",
    "from sklearn.model_selection import train_test_split\n",
    "x_train,x_val,y_train,y_val =train_test_split(x_train,y_train,\n",
    "                                             test_size=0.3,\n",
    "                                              random_state = 777)"
   ]
  },
  {
   "cell_type": "code",
   "execution_count": 4,
   "metadata": {},
   "outputs": [],
   "source": [
    "#모델 구성하기\n",
    "from tensorflow.keras.models import Sequential\n",
    "from tensorflow.keras.layers import Conv2D, MaxPool2D, Dense,Flatten\n",
    "\n",
    "model = Sequential([\n",
    "    Conv2D(filters= 16, kernel_size= 3, padding = \"same\",\n",
    "           activation = \"relu\", input_shape = (28,28,1)),\n",
    "    MaxPool2D(pool_size = (2,2), strides = 2, padding=\"same\"),\n",
    "    Conv2D(filters= 32, kernel_size= 3, padding = \"same\",\n",
    "           activation = \"relu\", input_shape = (28,28,1)),\n",
    "    MaxPool2D(pool_size = (2,2), strides = 2, padding=\"same\"),\n",
    "    Conv2D(filters= 64, kernel_size= 3, padding = \"same\",\n",
    "           activation = \"relu\", input_shape = (28,28,1)),\n",
    "    MaxPool2D(pool_size = (2,2), strides = 2, padding=\"same\"),\n",
    "    Flatten(),\n",
    "    Dense(64,activation = \"relu\"),\n",
    "    Dense(10,activation = \"softmax\")\n",
    "])"
   ]
  },
  {
   "cell_type": "code",
   "execution_count": 5,
   "metadata": {},
   "outputs": [
    {
     "name": "stdout",
     "output_type": "stream",
     "text": [
      "Epoch 1/30\n",
      "329/329 [==============================] - 11s 34ms/step - loss: 0.6513 - acc: 0.7640 - val_loss: 0.4254 - val_acc: 0.8452\n",
      "Epoch 2/30\n",
      "329/329 [==============================] - 11s 32ms/step - loss: 0.3908 - acc: 0.8586 - val_loss: 0.3637 - val_acc: 0.8657\n",
      "Epoch 3/30\n",
      "329/329 [==============================] - 10s 31ms/step - loss: 0.3361 - acc: 0.8785 - val_loss: 0.3383 - val_acc: 0.8808\n",
      "Epoch 4/30\n",
      "329/329 [==============================] - 10s 32ms/step - loss: 0.3032 - acc: 0.8894 - val_loss: 0.3003 - val_acc: 0.8928\n",
      "Epoch 5/30\n",
      "329/329 [==============================] - 10s 32ms/step - loss: 0.2805 - acc: 0.8971 - val_loss: 0.3259 - val_acc: 0.8827\n",
      "Epoch 6/30\n",
      "329/329 [==============================] - 11s 32ms/step - loss: 0.2622 - acc: 0.9040 - val_loss: 0.2795 - val_acc: 0.9006\n",
      "Epoch 7/30\n",
      "329/329 [==============================] - 11s 32ms/step - loss: 0.2485 - acc: 0.9078 - val_loss: 0.2859 - val_acc: 0.8962\n",
      "Epoch 8/30\n",
      "329/329 [==============================] - 11s 33ms/step - loss: 0.2348 - acc: 0.9128 - val_loss: 0.2649 - val_acc: 0.9027\n",
      "Epoch 9/30\n",
      "329/329 [==============================] - 11s 32ms/step - loss: 0.2187 - acc: 0.9198 - val_loss: 0.2760 - val_acc: 0.8976\n",
      "Epoch 10/30\n",
      "329/329 [==============================] - 11s 35ms/step - loss: 0.2116 - acc: 0.9225 - val_loss: 0.2632 - val_acc: 0.9051\n",
      "Epoch 11/30\n",
      "329/329 [==============================] - 11s 33ms/step - loss: 0.1991 - acc: 0.9269 - val_loss: 0.2452 - val_acc: 0.9131\n",
      "Epoch 12/30\n",
      "329/329 [==============================] - 11s 33ms/step - loss: 0.1864 - acc: 0.9321 - val_loss: 0.2592 - val_acc: 0.9063\n",
      "Epoch 13/30\n",
      "329/329 [==============================] - 11s 33ms/step - loss: 0.1779 - acc: 0.9340 - val_loss: 0.2619 - val_acc: 0.9102\n",
      "Epoch 14/30\n",
      "329/329 [==============================] - 11s 34ms/step - loss: 0.1726 - acc: 0.9370 - val_loss: 0.2627 - val_acc: 0.9121\n",
      "Epoch 15/30\n",
      "329/329 [==============================] - 11s 33ms/step - loss: 0.1615 - acc: 0.9404 - val_loss: 0.2541 - val_acc: 0.9104\n",
      "Epoch 16/30\n",
      "329/329 [==============================] - 11s 32ms/step - loss: 0.1529 - acc: 0.9429 - val_loss: 0.2665 - val_acc: 0.9107\n",
      "Epoch 17/30\n",
      "329/329 [==============================] - 11s 33ms/step - loss: 0.1443 - acc: 0.9471 - val_loss: 0.2504 - val_acc: 0.9139\n",
      "Epoch 18/30\n",
      "329/329 [==============================] - 11s 33ms/step - loss: 0.1344 - acc: 0.9492 - val_loss: 0.2742 - val_acc: 0.9061\n",
      "Epoch 19/30\n",
      "329/329 [==============================] - 11s 33ms/step - loss: 0.1282 - acc: 0.9524 - val_loss: 0.2761 - val_acc: 0.9106\n",
      "Epoch 20/30\n",
      "329/329 [==============================] - 11s 33ms/step - loss: 0.1226 - acc: 0.9544 - val_loss: 0.2888 - val_acc: 0.9066\n",
      "Epoch 21/30\n",
      "329/329 [==============================] - 11s 33ms/step - loss: 0.1144 - acc: 0.9570 - val_loss: 0.2944 - val_acc: 0.9099\n",
      "Epoch 22/30\n",
      "329/329 [==============================] - 11s 33ms/step - loss: 0.1063 - acc: 0.9598 - val_loss: 0.2887 - val_acc: 0.9107\n",
      "Epoch 23/30\n",
      "329/329 [==============================] - 11s 34ms/step - loss: 0.1018 - acc: 0.9622 - val_loss: 0.2726 - val_acc: 0.9134\n",
      "Epoch 24/30\n",
      "329/329 [==============================] - 11s 34ms/step - loss: 0.0944 - acc: 0.9661 - val_loss: 0.2847 - val_acc: 0.9144\n",
      "Epoch 25/30\n",
      "329/329 [==============================] - 11s 33ms/step - loss: 0.0871 - acc: 0.9679 - val_loss: 0.2947 - val_acc: 0.9164\n",
      "Epoch 26/30\n",
      "329/329 [==============================] - 11s 33ms/step - loss: 0.0814 - acc: 0.9697 - val_loss: 0.3144 - val_acc: 0.9088\n",
      "Epoch 27/30\n",
      "329/329 [==============================] - 11s 34ms/step - loss: 0.0736 - acc: 0.9731 - val_loss: 0.3138 - val_acc: 0.9143\n",
      "Epoch 28/30\n",
      "329/329 [==============================] - 11s 33ms/step - loss: 0.0709 - acc: 0.9733 - val_loss: 0.3345 - val_acc: 0.9123 \n",
      "Epoch 29/30\n",
      "329/329 [==============================] - 10s 32ms/step - loss: 0.0716 - acc: 0.9728 - val_loss: 0.3446 - val_acc: 0.9137\n",
      "Epoch 30/30\n",
      "329/329 [==============================] - 11s 32ms/step - loss: 0.0657 - acc: 0.9760 - val_loss: 0.3506 - val_acc: 0.9076\n"
     ]
    }
   ],
   "source": [
    "#모델 학습\n",
    "model.compile(optimizer =\"adam\",\n",
    "             loss = \"categorical_crossentropy\",\n",
    "             metrics = [\"acc\"])\n",
    "\n",
    "history = model.fit(x_train,y_train,\n",
    "         epochs = 30,\n",
    "         batch_size =128,\n",
    "         validation_data = (x_val,y_val))"
   ]
  },
  {
   "cell_type": "code",
   "execution_count": null,
   "metadata": {},
   "outputs": [],
   "source": []
  }
 ],
 "metadata": {
  "kernelspec": {
   "display_name": "keras_study",
   "language": "python",
   "name": "keras_study"
  },
  "language_info": {
   "codemirror_mode": {
    "name": "ipython",
    "version": 3
   },
   "file_extension": ".py",
   "mimetype": "text/x-python",
   "name": "python",
   "nbconvert_exporter": "python",
   "pygments_lexer": "ipython3",
   "version": "3.8.3"
  }
 },
 "nbformat": 4,
 "nbformat_minor": 4
}
