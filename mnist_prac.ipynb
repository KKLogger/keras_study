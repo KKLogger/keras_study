{
 "cells": [
  {
   "cell_type": "code",
   "execution_count": 63,
   "metadata": {},
   "outputs": [],
   "source": [
    "import tensorflow as tf\n",
    "from tensorflow.keras.datasets.mnist import load_data\n",
    "\n",
    "(x_train, y_train) , (x_test,y_test) = load_data(path = \"mnist.npz\")"
   ]
  },
  {
   "cell_type": "code",
   "execution_count": 64,
   "metadata": {},
   "outputs": [
    {
     "name": "stdout",
     "output_type": "stream",
     "text": [
      "(60000, 28, 28) (60000,)\n",
      "[5 0 4 ... 5 6 8]\n",
      "(10000, 28, 28) (10000,)\n",
      "[7 2 1 ... 4 5 6]\n"
     ]
    }
   ],
   "source": [
    "print(x_train.shape, y_train.shape)\n",
    "print(y_train) # 0 ~ 9\n",
    "print(x_test.shape, y_test.shape)\n",
    "print(y_test) # 0 ~ 9"
   ]
  },
  {
   "cell_type": "code",
   "execution_count": 65,
   "metadata": {},
   "outputs": [
    {
     "data": {
      "image/png": "[encoded data removed]",
      "text/plain": [
       "<Figure size 432x288 with 1 Axes>"
      ]
     },
     "metadata": {
      "needs_background": "light"
     },
     "output_type": "display_data"
    },
    {
     "data": {
      "image/png": "[encoded data removed]",
      "text/plain": [
       "<Figure size 432x288 with 1 Axes>"
      ]
     },
     "metadata": {
      "needs_background": "light"
     },
     "output_type": "display_data"
    },
    {
     "data": {
      "image/png": "[encoded data removed]",
      "text/plain": [
       "<Figure size 432x288 with 1 Axes>"
      ]
     },
     "metadata": {
      "needs_background": "light"
     },
     "output_type": "display_data"
    }
   ],
   "source": [
    "import matplotlib.pyplot as plt\n",
    "import numpy as np\n",
    "\n",
    "sample_size = 3\n",
    "\n",
    "random_idx = np.random.randint(60000,size=sample_size)\n",
    "\n",
    "for idx in random_idx :\n",
    "    img = x_train[idx,:]\n",
    "    label = y_train[idx]\n",
    "    plt.figure()\n",
    "    plt.imshow(img)\n",
    "    plt.title(\"{idx}th is {label}\".format(idx=idx,label=label))"
   ]
  },
  {
   "cell_type": "code",
   "execution_count": 66,
   "metadata": {},
   "outputs": [
    {
     "name": "stdout",
     "output_type": "stream",
     "text": [
      "학습 데이터 (42000, 28, 28) 학습 레이블 (42000,)\n",
      "검증 데이터 (18000, 28, 28) 검증 레이블 (18000,)\n"
     ]
    }
   ],
   "source": [
    "#검증 데이터 만들기\n",
    "from sklearn.model_selection import train_test_split\n",
    "\n",
    "x_train , x_val , y_train , y_val = train_test_split(x_train,y_train,test_size=0.3,random_state= 777)\n",
    "print(\"학습 데이터 {} 학습 레이블 {}\".format(x_train.shape,y_train.shape))\n",
    "print(\"검증 데이터 {} 검증 레이블 {}\".format(x_val.shape,y_val.shape))"
   ]
  },
  {
   "cell_type": "code",
   "execution_count": 67,
   "metadata": {},
   "outputs": [
    {
     "name": "stdout",
     "output_type": "stream",
     "text": [
      "(42000, 784)\n"
     ]
    }
   ],
   "source": [
    "num_x_train = x_train.shape[0]\n",
    "num_x_val = x_val.shape[0]\n",
    "num_x_test = x_test.shape[0]\n",
    "\n",
    "# 전처리 과정 (그래디언트 손실과 그래디언트 폭발로 학습이 진행되지 않는걸 방지하기 위해서)\n",
    "x_train = (x_train.reshape((num_x_train,28*28)))/ 255\n",
    "x_val = (x_val.reshape((num_x_val,28*28)))/255\n",
    "x_test = (x_test.reshape((num_x_test,28*28)))/255\n",
    "# 픽셀 범위 0~255 에 따라 minmax 알고리즘으로 정규화(normalization)\n",
    "print(x_train.shape)"
   ]
  },
  {
   "cell_type": "code",
   "execution_count": 68,
   "metadata": {},
   "outputs": [
    {
     "name": "stdout",
     "output_type": "stream",
     "text": [
      "[2 7 6 ... 3 4 5]\n",
      "[[0. 0. 1. ... 0. 0. 0.]\n",
      " [0. 0. 0. ... 1. 0. 0.]\n",
      " [0. 0. 0. ... 0. 0. 0.]\n",
      " ...\n",
      " [0. 0. 0. ... 0. 0. 0.]\n",
      " [0. 0. 0. ... 0. 0. 0.]\n",
      " [0. 0. 0. ... 0. 0. 0.]]\n"
     ]
    }
   ],
   "source": [
    "# 모델의 마지막층에 소프트맥스 Softmax 함수를 사용하기 때문에 Y 데이터를 범주형 데이터로 변환\n",
    "from tensorflow.keras.utils import to_categorical\n",
    "print(y_train)\n",
    "y_train = to_categorical(y_train)\n",
    "\n",
    "y_val = to_categorical(y_val)\n",
    "y_test = to_categorical(y_test)\n",
    "\n",
    "print(y_train)"
   ]
  },
  {
   "cell_type": "code",
   "execution_count": 69,
   "metadata": {},
   "outputs": [],
   "source": [
    "#모델 구성\n",
    "\n",
    "from tensorflow.keras.models import Sequential\n",
    "from tensorflow.keras.layers import Dense\n",
    "\n",
    "model = Sequential()\n",
    "#첫번째 층에는 입력 형태 설정\n",
    "model.add(Dense(64,activation = \"relu\", input_shape= (784,))) # 64개의 출력을 가지는 층\n",
    "model.add(Dense(32,activation =\"relu\")) # 32개의 출력을 가지는 층\n",
    "model.add(Dense(10,activation = \"softmax\")) # 10r개의 출력 -> 범주형 데이터 이므로 sotfmax \n"
   ]
  },
  {
   "cell_type": "code",
   "execution_count": 70,
   "metadata": {},
   "outputs": [
    {
     "name": "stdout",
     "output_type": "stream",
     "text": [
      "(42000, 784)\n",
      "Epoch 1/30\n",
      "1313/1313 [==============================] - 1s 890us/step - loss: 0.3444 - acc: 0.9016 - val_loss: 0.1944 - val_acc: 0.9433\n",
      "Epoch 2/30\n",
      "1313/1313 [==============================] - 1s 826us/step - loss: 0.1523 - acc: 0.9560 - val_loss: 0.1457 - val_acc: 0.9557\n",
      "Epoch 3/30\n",
      "1313/1313 [==============================] - 1s 791us/step - loss: 0.1111 - acc: 0.9671 - val_loss: 0.1234 - val_acc: 0.9622\n",
      "Epoch 4/30\n",
      "1313/1313 [==============================] - 1s 850us/step - loss: 0.0868 - acc: 0.9739 - val_loss: 0.1168 - val_acc: 0.9644\n",
      "Epoch 5/30\n",
      "1313/1313 [==============================] - 1s 813us/step - loss: 0.0688 - acc: 0.9788 - val_loss: 0.1118 - val_acc: 0.9666\n",
      "Epoch 6/30\n",
      "1313/1313 [==============================] - 1s 794us/step - loss: 0.0579 - acc: 0.9820 - val_loss: 0.1163 - val_acc: 0.9657\n",
      "Epoch 7/30\n",
      "1313/1313 [==============================] - 1s 805us/step - loss: 0.0489 - acc: 0.9845 - val_loss: 0.1161 - val_acc: 0.9684\n",
      "Epoch 8/30\n",
      "1313/1313 [==============================] - 1s 772us/step - loss: 0.0401 - acc: 0.9875 - val_loss: 0.1229 - val_acc: 0.9648\n",
      "Epoch 9/30\n",
      "1313/1313 [==============================] - 1s 800us/step - loss: 0.0352 - acc: 0.9890 - val_loss: 0.1036 - val_acc: 0.9708\n",
      "Epoch 10/30\n",
      "1313/1313 [==============================] - 1s 785us/step - loss: 0.0302 - acc: 0.9902 - val_loss: 0.1069 - val_acc: 0.9724\n",
      "Epoch 11/30\n",
      "1313/1313 [==============================] - 1s 778us/step - loss: 0.0249 - acc: 0.9917 - val_loss: 0.1222 - val_acc: 0.9693\n",
      "Epoch 12/30\n",
      "1313/1313 [==============================] - 1s 807us/step - loss: 0.0218 - acc: 0.9929 - val_loss: 0.1677 - val_acc: 0.9609\n",
      "Epoch 13/30\n",
      "1313/1313 [==============================] - 1s 789us/step - loss: 0.0208 - acc: 0.9932 - val_loss: 0.1253 - val_acc: 0.9707\n",
      "Epoch 14/30\n",
      "1313/1313 [==============================] - 1s 831us/step - loss: 0.0170 - acc: 0.9941 - val_loss: 0.1265 - val_acc: 0.9712\n",
      "Epoch 15/30\n",
      "1313/1313 [==============================] - 1s 783us/step - loss: 0.0175 - acc: 0.9939 - val_loss: 0.1318 - val_acc: 0.9703\n",
      "Epoch 16/30\n",
      "1313/1313 [==============================] - 1s 816us/step - loss: 0.0149 - acc: 0.9954 - val_loss: 0.1293 - val_acc: 0.9707\n",
      "Epoch 17/30\n",
      "1313/1313 [==============================] - 1s 799us/step - loss: 0.0150 - acc: 0.9947 - val_loss: 0.1312 - val_acc: 0.9718\n",
      "Epoch 18/30\n",
      "1313/1313 [==============================] - 1s 797us/step - loss: 0.0131 - acc: 0.9954 - val_loss: 0.1521 - val_acc: 0.9662\n",
      "Epoch 19/30\n",
      "1313/1313 [==============================] - 1s 800us/step - loss: 0.0127 - acc: 0.9957 - val_loss: 0.1528 - val_acc: 0.9716\n",
      "Epoch 20/30\n",
      "1313/1313 [==============================] - 1s 768us/step - loss: 0.0106 - acc: 0.9965 - val_loss: 0.1802 - val_acc: 0.9674\n",
      "Epoch 21/30\n",
      "1313/1313 [==============================] - 1s 799us/step - loss: 0.0121 - acc: 0.9962 - val_loss: 0.1513 - val_acc: 0.9716\n",
      "Epoch 22/30\n",
      "1313/1313 [==============================] - 1s 784us/step - loss: 0.0091 - acc: 0.9970 - val_loss: 0.1454 - val_acc: 0.9737\n",
      "Epoch 23/30\n",
      "1313/1313 [==============================] - 1s 789us/step - loss: 0.0112 - acc: 0.9963 - val_loss: 0.1421 - val_acc: 0.9740\n",
      "Epoch 24/30\n",
      "1313/1313 [==============================] - 1s 829us/step - loss: 0.0104 - acc: 0.9963 - val_loss: 0.1743 - val_acc: 0.9671\n",
      "Epoch 25/30\n",
      "1313/1313 [==============================] - 1s 784us/step - loss: 0.0087 - acc: 0.9971 - val_loss: 0.1646 - val_acc: 0.9710\n",
      "Epoch 26/30\n",
      "1313/1313 [==============================] - 1s 812us/step - loss: 0.0107 - acc: 0.9965 - val_loss: 0.1749 - val_acc: 0.9703\n",
      "Epoch 27/30\n",
      "1313/1313 [==============================] - 1s 797us/step - loss: 0.0073 - acc: 0.9975 - val_loss: 0.1881 - val_acc: 0.9698\n",
      "Epoch 28/30\n",
      "1313/1313 [==============================] - 1s 806us/step - loss: 0.0104 - acc: 0.9970 - val_loss: 0.1601 - val_acc: 0.9732\n",
      "Epoch 29/30\n",
      "1313/1313 [==============================] - 1s 802us/step - loss: 0.0070 - acc: 0.9975 - val_loss: 0.1819 - val_acc: 0.9703\n",
      "Epoch 30/30\n",
      "1313/1313 [==============================] - 1s 807us/step - loss: 0.0056 - acc: 0.9982 - val_loss: 0.1791 - val_acc: 0.9729\n"
     ]
    },
    {
     "data": {
      "text/plain": [
       "<tensorflow.python.keras.callbacks.History at 0x22283d07580>"
      ]
     },
     "execution_count": 70,
     "metadata": {},
     "output_type": "execute_result"
    }
   ],
   "source": [
    "# 학습과정 설정\n",
    "model.compile(optimizer = \"adam\" , \n",
    "                loss = \"categorical_crossentropy\",\n",
    "             metrics=['acc'])\n",
    "print(x_train.shape)\n",
    "history = model.fit(x_train,y_train,\n",
    "                   epochs=30,\n",
    "#                    batch_size=128,\n",
    "                   validation_data=(x_val,y_val))\n",
    "history"
   ]
  },
  {
   "cell_type": "code",
   "execution_count": 71,
   "metadata": {},
   "outputs": [
    {
     "data": {
      "text/plain": [
       "dict_keys(['loss', 'acc', 'val_loss', 'val_acc'])"
      ]
     },
     "execution_count": 71,
     "metadata": {},
     "output_type": "execute_result"
    }
   ],
   "source": [
    "history.history.keys()"
   ]
  },
  {
   "cell_type": "code",
   "execution_count": 80,
   "metadata": {},
   "outputs": [
    {
     "data": {
      "image/png": "[encoded data removed]",
      "text/plain": [
       "<Figure size 720x360 with 2 Axes>"
      ]
     },
     "metadata": {
      "needs_background": "light"
     },
     "output_type": "display_data"
    }
   ],
   "source": [
    "#학습 결과 시각화\n",
    "import matplotlib.pyplot as plt\n",
    "\n",
    "his_dict = history.history\n",
    "loss= his_dict[\"loss\"]\n",
    "val_loss = his_dict[\"val_loss\"]\n",
    "\n",
    "epochs = range(1, len(loss)+1)\n",
    "fig = plt.figure(figsize= (10,5))\n",
    "\n",
    "#학습 및 검증 손실 그리기\n",
    "ax1= fig.add_subplot(1,2,1)\n",
    "ax1.plot(epochs, loss, color=\"blue\", label = \"train_loss\")\n",
    "ax1.plot(epochs, val_loss, color = \"orange\", label = \"val_loss\")\n",
    "ax1.set_title(\"train and val loss\")\n",
    "ax1.set_xlabel(\"epochs\")\n",
    "ax1.set_ylabel(\"loss\")\n",
    "ax1.legend()\n",
    "\n",
    "acc = his_dict['acc']\n",
    "val_acc= his_dict['val_acc']\n",
    "\n",
    "#학습 및 검증 정확도 그리기\n",
    "ax2 = fig.add_subplot(1,2,2)\n",
    "ax2.plot(epochs, acc ,color =\"blue\",label=\"train_acc\")\n",
    "ax2.plot(epochs, val_acc, color = \"orange\", label = \"val_acc\")\n",
    "ax2.set_title(\"train and val acc\")\n",
    "ax2.set_xlabel(\"epochs\")\n",
    "ax2.set_ylabel(\"loss\")\n",
    "ax2.legend()\n",
    "plt.show()\n",
    "# 아래의 두 그래프가 epochs가 올라갈수록 벌어지고 있다 = Overfitting 이 이러나고 있다"
   ]
  },
  {
   "cell_type": "code",
   "execution_count": 81,
   "metadata": {},
   "outputs": [
    {
     "name": "stdout",
     "output_type": "stream",
     "text": [
      "313/313 [==============================] - 0s 467us/step - loss: 0.1705 - acc: 0.9751\n"
     ]
    },
    {
     "data": {
      "text/plain": [
       "[0.17049767076969147, 0.9750999808311462]"
      ]
     },
     "execution_count": 81,
     "metadata": {},
     "output_type": "execute_result"
    }
   ],
   "source": [
    "#모델 평가\n",
    "model.evaluate(x_test,y_test) "
   ]
  },
  {
   "cell_type": "code",
   "execution_count": 83,
   "metadata": {},
   "outputs": [
    {
     "name": "stdout",
     "output_type": "stream",
     "text": [
      "(10000, 10)\n",
      "각 클래스에 속할 확률 : \n",
      "[3.1812139e-20 1.1548703e-12 2.0829397e-12 3.0723443e-06 2.3686143e-23\n",
      " 1.0507659e-15 1.2672181e-24 9.9999690e-01 1.9635030e-13 4.8986752e-12]\n"
     ]
    }
   ],
   "source": [
    "#값 예측 \n",
    "import numpy as np\n",
    "\n",
    "results = model.predict(x_test)\n",
    "print(results.shape)\n",
    "np.set_printoptions(precision=7) # 소수점 제한\\\n",
    "print(\"각 클래스에 속할 확률 : \\n{}\".format(results[0]))"
   ]
  },
  {
   "cell_type": "code",
   "execution_count": 99,
   "metadata": {},
   "outputs": [
    {
     "data": {
      "image/png": "[encoded data removed]",
      "text/plain": [
       "<Figure size 432x288 with 1 Axes>"
      ]
     },
     "metadata": {
      "needs_background": "light"
     },
     "output_type": "display_data"
    },
    {
     "name": "stdout",
     "output_type": "stream",
     "text": [
      "[7 2 1 ... 4 5 6]\n"
     ]
    }
   ],
   "source": [
    "#에측 값 그리기\n",
    "\n",
    "import matplotlib.pyplot as plt\n",
    "\n",
    "arg_results = np.argmax(results,axis=-1)\n",
    "plt.imshow(x_test[1].reshape(28,28))\n",
    "plt.title(\"predicted value of first:\"+str(arg_results[1]))\n",
    "plt.show()\n",
    "print(arg_results)"
   ]
  },
  {
   "cell_type": "code",
   "execution_count": 104,
   "metadata": {},
   "outputs": [
    {
     "data": {
      "image/png": "[encoded data removed]",
      "text/plain": [
       "<Figure size 504x504 with 2 Axes>"
      ]
     },
     "metadata": {
      "needs_background": "light"
     },
     "output_type": "display_data"
    }
   ],
   "source": [
    "# sklearn.metrics 로 평가지표 나타내기\n",
    "from sklearn.metrics import classification_report , confusion_matrix\n",
    "import matplotlib.pyplot as plt\n",
    "import seaborn as sns\n",
    "\n",
    "# confusion matrix 생성\n",
    "plt.figure(figsize=(7,7))\n",
    "cm = confusion_matrix(np.argmax(y_test,axis=-1),np.argmax(results,axis=-1))\n",
    "sns.heatmap(cm,annot=True,fmt=\"d\",cmap=\"Blues\")\n",
    "plt.xlabel(\"predicted label\")\n",
    "plt.ylabel(\"true label\")\n",
    "plt.show()"
   ]
  },
  {
   "cell_type": "code",
   "execution_count": 106,
   "metadata": {},
   "outputs": [
    {
     "name": "stdout",
     "output_type": "stream",
     "text": [
      "\n",
      "               precision    recall  f1-score   support\n",
      "\n",
      "           0       0.97      0.99      0.98       980\n",
      "           1       0.99      0.99      0.99      1135\n",
      "           2       0.98      0.97      0.97      1032\n",
      "           3       0.97      0.97      0.97      1010\n",
      "           4       0.98      0.98      0.98       982\n",
      "           5       0.98      0.96      0.97       892\n",
      "           6       0.97      0.98      0.98       958\n",
      "           7       0.97      0.98      0.97      1028\n",
      "           8       0.97      0.96      0.96       974\n",
      "           9       0.97      0.98      0.97      1009\n",
      "\n",
      "    accuracy                           0.98     10000\n",
      "   macro avg       0.97      0.97      0.97     10000\n",
      "weighted avg       0.98      0.98      0.98     10000\n",
      "\n"
     ]
    }
   ],
   "source": [
    "# classification report 분류보고서 생성\n",
    "print('\\n', classification_report(np.argmax(y_test,axis=-1),np.argmax(results,axis=-1)))"
   ]
  }
 ],
 "metadata": {
  "kernelspec": {
   "display_name": "keras_study",
   "language": "python",
   "name": "keras_study"
  },
  "language_info": {
   "codemirror_mode": {
    "name": "ipython",
    "version": 3
   },
   "file_extension": ".py",
   "mimetype": "text/x-python",
   "name": "python",
   "nbconvert_exporter": "python",
   "pygments_lexer": "ipython3",
   "version": "3.8.5"
  }
 },
 "nbformat": 4,
 "nbformat_minor": 4
}
