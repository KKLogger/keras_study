{
 "cells": [
  {
   "cell_type": "code",
   "execution_count": 1,
   "metadata": {},
   "outputs": [
    {
     "name": "stdout",
     "output_type": "stream",
     "text": [
      "Downloading data from https://storage.googleapis.com/tensorflow/tf-keras-datasets/mnist.npz\n",
      "11493376/11490434 [==============================] - 1s 0us/step\n"
     ]
    }
   ],
   "source": [
    "import tensorflow as tf\n",
    "from tensorflow.keras.datasets.mnist import load_data\n",
    "\n",
    "(x_train, y_train) , (x_test,y_test) = load_data(path = \"mnist.npz\")"
   ]
  },
  {
   "cell_type": "code",
   "execution_count": 2,
   "metadata": {},
   "outputs": [
    {
     "name": "stdout",
     "output_type": "stream",
     "text": [
      "(60000, 28, 28) (60000,)\n",
      "[[[0 0 0 ... 0 0 0]\n",
      "  [0 0 0 ... 0 0 0]\n",
      "  [0 0 0 ... 0 0 0]\n",
      "  ...\n",
      "  [0 0 0 ... 0 0 0]\n",
      "  [0 0 0 ... 0 0 0]\n",
      "  [0 0 0 ... 0 0 0]]\n",
      "\n",
      " [[0 0 0 ... 0 0 0]\n",
      "  [0 0 0 ... 0 0 0]\n",
      "  [0 0 0 ... 0 0 0]\n",
      "  ...\n",
      "  [0 0 0 ... 0 0 0]\n",
      "  [0 0 0 ... 0 0 0]\n",
      "  [0 0 0 ... 0 0 0]]\n",
      "\n",
      " [[0 0 0 ... 0 0 0]\n",
      "  [0 0 0 ... 0 0 0]\n",
      "  [0 0 0 ... 0 0 0]\n",
      "  ...\n",
      "  [0 0 0 ... 0 0 0]\n",
      "  [0 0 0 ... 0 0 0]\n",
      "  [0 0 0 ... 0 0 0]]\n",
      "\n",
      " ...\n",
      "\n",
      " [[0 0 0 ... 0 0 0]\n",
      "  [0 0 0 ... 0 0 0]\n",
      "  [0 0 0 ... 0 0 0]\n",
      "  ...\n",
      "  [0 0 0 ... 0 0 0]\n",
      "  [0 0 0 ... 0 0 0]\n",
      "  [0 0 0 ... 0 0 0]]\n",
      "\n",
      " [[0 0 0 ... 0 0 0]\n",
      "  [0 0 0 ... 0 0 0]\n",
      "  [0 0 0 ... 0 0 0]\n",
      "  ...\n",
      "  [0 0 0 ... 0 0 0]\n",
      "  [0 0 0 ... 0 0 0]\n",
      "  [0 0 0 ... 0 0 0]]\n",
      "\n",
      " [[0 0 0 ... 0 0 0]\n",
      "  [0 0 0 ... 0 0 0]\n",
      "  [0 0 0 ... 0 0 0]\n",
      "  ...\n",
      "  [0 0 0 ... 0 0 0]\n",
      "  [0 0 0 ... 0 0 0]\n",
      "  [0 0 0 ... 0 0 0]]]\n",
      "(10000, 28, 28) (10000,)\n",
      "[7 2 1 ... 4 5 6]\n"
     ]
    }
   ],
   "source": [
    "print(x_train.shape, y_train.shape)\n",
    "print(x_train) # 0 ~ 9\n",
    "print(x_test.shape, y_test.shape)\n",
    "print(y_test) # 0 ~ 9"
   ]
  },
  {
   "cell_type": "code",
   "execution_count": 3,
   "metadata": {},
   "outputs": [
    {
     "data": {
      "image/png": "[encoded data removed]",
      "text/plain": [
       "<Figure size 432x288 with 1 Axes>"
      ]
     },
     "metadata": {
      "needs_background": "light"
     },
     "output_type": "display_data"
    },
    {
     "data": {
      "image/png": "[encoded data removed]",
      "text/plain": [
       "<Figure size 432x288 with 1 Axes>"
      ]
     },
     "metadata": {
      "needs_background": "light"
     },
     "output_type": "display_data"
    },
    {
     "data": {
      "image/png": "[encoded data removed]",
      "text/plain": [
       "<Figure size 432x288 with 1 Axes>"
      ]
     },
     "metadata": {
      "needs_background": "light"
     },
     "output_type": "display_data"
    }
   ],
   "source": [
    "import matplotlib.pyplot as plt\n",
    "import numpy as np\n",
    "\n",
    "sample_size = 3\n",
    "\n",
    "random_idx = np.random.randint(60000,size=sample_size)\n",
    "\n",
    "for idx in random_idx :\n",
    "    img = x_train[idx,:]\n",
    "    label = y_train[idx]\n",
    "    plt.figure()\n",
    "    plt.imshow(img)\n",
    "    plt.title(\"{idx}th is {label}\".format(idx=idx,label=label))"
   ]
  },
  {
   "cell_type": "code",
   "execution_count": 4,
   "metadata": {},
   "outputs": [
    {
     "name": "stdout",
     "output_type": "stream",
     "text": [
      "학습 데이터 (42000, 28, 28) 학습 레이블 (42000,)\n",
      "검증 데이터 (18000, 28, 28) 검증 레이블 (18000,)\n"
     ]
    }
   ],
   "source": [
    "#검증 데이터 만들기\n",
    "from sklearn.model_selection import train_test_split\n",
    "\n",
    "x_train , x_val , y_train , y_val = train_test_split(x_train,y_train,test_size=0.3,random_state= 777)\n",
    "print(\"학습 데이터 {} 학습 레이블 {}\".format(x_train.shape,y_train.shape))\n",
    "print(\"검증 데이터 {} 검증 레이블 {}\".format(x_val.shape,y_val.shape))"
   ]
  },
  {
   "cell_type": "code",
   "execution_count": 6,
   "metadata": {},
   "outputs": [
    {
     "name": "stdout",
     "output_type": "stream",
     "text": [
      "(42000, 784)\n"
     ]
    }
   ],
   "source": [
    "num_x_train = x_train.shape[0]\n",
    "num_x_val = x_val.shape[0]\n",
    "num_x_test = x_test.shape[0]\n",
    "\n",
    "# 전처리 과정\n",
    "x_train = (x_train.reshape((num_x_train,28*28)))/ 255\n",
    "x_val = (x_val.reshape((num_x_val,28*28)))/ 255\n",
    "x_test = (x_test.reshape((num_x_test,28*28)))/ 255\n",
    "\n",
    "print(x_train.shape)  # -> (42000,784)"
   ]
  },
  {
   "cell_type": "code",
   "execution_count": 7,
   "metadata": {},
   "outputs": [],
   "source": [
    "from tensorflow.keras.utils import to_categorical\n",
    "\n",
    "y_train = to_categorical(y_train)\n",
    "y_val = to_categorical(y_val)\n",
    "y_test = to_categorical(y_test)"
   ]
  },
  {
   "cell_type": "code",
   "execution_count": 9,
   "metadata": {},
   "outputs": [],
   "source": [
    "from tensorflow.keras.models import Sequential\n",
    "from tensorflow.keras.layers import Dense\n",
    "\n",
    "model = Sequential()\n",
    "# 첫번째 층에 입력데이터 꼭 명시\n",
    "model.add(Dense(64,activation=\"relu\",input_shape=(784,)))\n",
    "model.add(Dense(32,activation=\"relu\"))\n",
    "model.add(Dense(10,activation=\"softmax\"))"
   ]
  },
  {
   "cell_type": "code",
   "execution_count": 10,
   "metadata": {},
   "outputs": [],
   "source": [
    "model.compile(optimizer=\"adam\",\n",
    "             loss=\"categorical_crossentropy\",\n",
    "             metrics=[\"acc\"])"
   ]
  },
  {
   "cell_type": "code",
   "execution_count": 11,
   "metadata": {},
   "outputs": [
    {
     "name": "stdout",
     "output_type": "stream",
     "text": [
      "Epoch 1/30\n",
      "329/329 [==============================] - 1s 2ms/step - loss: 1.8064 - acc: 0.4265 - val_loss: 1.1968 - val_acc: 0.6182\n",
      "Epoch 2/30\n",
      "329/329 [==============================] - 1s 2ms/step - loss: 0.9312 - acc: 0.7040 - val_loss: 0.7634 - val_acc: 0.7614\n",
      "Epoch 3/30\n",
      "329/329 [==============================] - 1s 2ms/step - loss: 0.6776 - acc: 0.7878 - val_loss: 0.6146 - val_acc: 0.8056\n",
      "Epoch 4/30\n",
      "329/329 [==============================] - 1s 2ms/step - loss: 0.5653 - acc: 0.8237 - val_loss: 0.5258 - val_acc: 0.8388\n",
      "Epoch 5/30\n",
      "329/329 [==============================] - 1s 2ms/step - loss: 0.4915 - acc: 0.8510 - val_loss: 0.4656 - val_acc: 0.8600\n",
      "Epoch 6/30\n",
      "329/329 [==============================] - 1s 2ms/step - loss: 0.4426 - acc: 0.8674 - val_loss: 0.4270 - val_acc: 0.8757\n",
      "Epoch 7/30\n",
      "329/329 [==============================] - 1s 2ms/step - loss: 0.4095 - acc: 0.8775 - val_loss: 0.3986 - val_acc: 0.8845\n",
      "Epoch 8/30\n",
      "329/329 [==============================] - 1s 2ms/step - loss: 0.3872 - acc: 0.8860 - val_loss: 0.3811 - val_acc: 0.8898\n",
      "Epoch 9/30\n",
      "329/329 [==============================] - 1s 2ms/step - loss: 0.3688 - acc: 0.8919 - val_loss: 0.3644 - val_acc: 0.8963\n",
      "Epoch 10/30\n",
      "329/329 [==============================] - 1s 2ms/step - loss: 0.3538 - acc: 0.8964 - val_loss: 0.3527 - val_acc: 0.8994\n",
      "Epoch 11/30\n",
      "329/329 [==============================] - 1s 2ms/step - loss: 0.3406 - acc: 0.8995 - val_loss: 0.3463 - val_acc: 0.9027\n",
      "Epoch 12/30\n",
      "329/329 [==============================] - 1s 2ms/step - loss: 0.3293 - acc: 0.9033 - val_loss: 0.3336 - val_acc: 0.9058\n",
      "Epoch 13/30\n",
      "329/329 [==============================] - 1s 2ms/step - loss: 0.3190 - acc: 0.9072 - val_loss: 0.3252 - val_acc: 0.9091\n",
      "Epoch 14/30\n",
      "329/329 [==============================] - 1s 2ms/step - loss: 0.3108 - acc: 0.9096 - val_loss: 0.3135 - val_acc: 0.9113\n",
      "Epoch 15/30\n",
      "329/329 [==============================] - 1s 2ms/step - loss: 0.3018 - acc: 0.9120 - val_loss: 0.3078 - val_acc: 0.9135\n",
      "Epoch 16/30\n",
      "329/329 [==============================] - 1s 2ms/step - loss: 0.2936 - acc: 0.9145 - val_loss: 0.3016 - val_acc: 0.9151\n",
      "Epoch 17/30\n",
      "329/329 [==============================] - 1s 2ms/step - loss: 0.2862 - acc: 0.9163 - val_loss: 0.2944 - val_acc: 0.9176\n",
      "Epoch 18/30\n",
      "329/329 [==============================] - 1s 2ms/step - loss: 0.2794 - acc: 0.9185 - val_loss: 0.2872 - val_acc: 0.9194\n",
      "Epoch 19/30\n",
      "329/329 [==============================] - 1s 2ms/step - loss: 0.2722 - acc: 0.9208 - val_loss: 0.2837 - val_acc: 0.9204\n",
      "Epoch 20/30\n",
      "329/329 [==============================] - 1s 2ms/step - loss: 0.2666 - acc: 0.9215 - val_loss: 0.2761 - val_acc: 0.9227\n",
      "Epoch 21/30\n",
      "329/329 [==============================] - 0s 2ms/step - loss: 0.2593 - acc: 0.9249 - val_loss: 0.2691 - val_acc: 0.9245\n",
      "Epoch 22/30\n",
      "329/329 [==============================] - 0s 2ms/step - loss: 0.2525 - acc: 0.9264 - val_loss: 0.2655 - val_acc: 0.9247\n",
      "Epoch 23/30\n",
      "329/329 [==============================] - 1s 2ms/step - loss: 0.2469 - acc: 0.9271 - val_loss: 0.2586 - val_acc: 0.9263\n",
      "Epoch 24/30\n",
      "329/329 [==============================] - 0s 1ms/step - loss: 0.2406 - acc: 0.9292 - val_loss: 0.2534 - val_acc: 0.9283\n",
      "Epoch 25/30\n",
      "329/329 [==============================] - 0s 2ms/step - loss: 0.2354 - acc: 0.9318 - val_loss: 0.2513 - val_acc: 0.9292\n",
      "Epoch 26/30\n",
      "329/329 [==============================] - 1s 2ms/step - loss: 0.2301 - acc: 0.9328 - val_loss: 0.2453 - val_acc: 0.9307\n",
      "Epoch 27/30\n",
      "329/329 [==============================] - 0s 2ms/step - loss: 0.2242 - acc: 0.9349 - val_loss: 0.2401 - val_acc: 0.9334\n",
      "Epoch 28/30\n",
      "329/329 [==============================] - 0s 2ms/step - loss: 0.2192 - acc: 0.9359 - val_loss: 0.2349 - val_acc: 0.9330\n",
      "Epoch 29/30\n",
      "329/329 [==============================] - 1s 2ms/step - loss: 0.2143 - acc: 0.9374 - val_loss: 0.2315 - val_acc: 0.9344\n",
      "Epoch 30/30\n",
      "329/329 [==============================] - 1s 2ms/step - loss: 0.2103 - acc: 0.9378 - val_loss: 0.2244 - val_acc: 0.9364\n"
     ]
    }
   ],
   "source": [
    "history = model.fit(x_train,y_train,\n",
    "                   epochs=30,\n",
    "                   batch_size=128,\n",
    "                   validation_data=(x_val,y_val))"
   ]
  },
  {
   "cell_type": "code",
   "execution_count": null,
   "metadata": {},
   "outputs": [],
   "source": []
  }
 ],
 "metadata": {
  "kernelspec": {
   "display_name": "keras_study",
   "language": "python",
   "name": "keras_study"
  },
  "language_info": {
   "codemirror_mode": {
    "name": "ipython",
    "version": 3
   },
   "file_extension": ".py",
   "mimetype": "text/x-python",
   "name": "python",
   "nbconvert_exporter": "python",
   "pygments_lexer": "ipython3",
   "version": "3.8.3"
  }
 },
 "nbformat": 4,
 "nbformat_minor": 4
}
