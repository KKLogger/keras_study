{
 "cells": [
  {
   "cell_type": "code",
   "execution_count": 1,
   "metadata": {},
   "outputs": [
    {
     "name": "stderr",
     "output_type": "stream",
     "text": [
      "WARNING:root:Limited tf.compat.v2.summary API due to missing TensorBoard installation.\n",
      "WARNING:root:Limited tf.compat.v2.summary API due to missing TensorBoard installation.\n",
      "WARNING:root:Limited tf.compat.v2.summary API due to missing TensorBoard installation.\n",
      "WARNING:root:Limited tf.summary API due to missing TensorBoard installation.\n"
     ]
    },
    {
     "name": "stdout",
     "output_type": "stream",
     "text": [
      "(28, 28)\n"
     ]
    }
   ],
   "source": [
    "# Data Download\n",
    "from tensorflow.keras.datasets import fashion_mnist\n",
    "\n",
    "(x_train,y_train),(x_test,y_test) = fashion_mnist.load_data()\n",
    "print(x_train[0].shape)"
   ]
  },
  {
   "cell_type": "code",
   "execution_count": 2,
   "metadata": {},
   "outputs": [
    {
     "name": "stdout",
     "output_type": "stream",
     "text": [
      "output size : 25\n"
     ]
    }
   ],
   "source": [
    "# 이미지 필터 정의\n",
    "import numpy as np\n",
    "import cv2\n",
    "\n",
    "# 가로선 추출을 위한 필터\n",
    "horizontal_filter = np.array([[1.,2.,1.],\n",
    "                            [0.,0.,0.],\n",
    "                            [-1.,-2.,-1.]])\n",
    "\n",
    "# 세로선 추출을 위한 필터\n",
    "vertical_filter = np.array([[1.,0.,-1.],\n",
    "                          [2.,0.,-2.],\n",
    "                          [1.,0.,-1.]])\n",
    "# 계산의 편의를 위해 이미지의 크기를 (28,28) -> (27,27)로 줄인다. \n",
    "test_image = cv2.resize(x_train[0],(27,27))\n",
    "image_size = test_image.shape[0]\n",
    "output_size = int((image_size - 3)/1 + 1)\n",
    "print('output size : {}'.format(output_size))"
   ]
  },
  {
   "cell_type": "code",
   "execution_count": 3,
   "metadata": {},
   "outputs": [],
   "source": [
    "# 이미지 필터 함수 선언\n",
    "filter_size = 3\n",
    "\n",
    "def get_filtered_image(filter):\n",
    "    filtered_image = np.zeros((output_size,output_size))\n",
    "    for i in range(output_size):\n",
    "        for j in range(output_size):\n",
    "            # 컨볼루션 연산\n",
    "            indice_image = test_image[i:(i+filter_size),\n",
    "                                     j:(j+filter_size)] * filter # filter 값을 곱한다\n",
    "            indice_sum = np.sum(indice_image)\n",
    "            if(indice_sum>255):\n",
    "                indice_sum=255\n",
    "            filtered_image[i,j] = indice_sum\n",
    "    return filtered_image"
   ]
  },
  {
   "cell_type": "code",
   "execution_count": 5,
   "metadata": {},
   "outputs": [
    {
     "data": {
      "text/plain": [
       "<function matplotlib.pyplot.show(close=None, block=None)>"
      ]
     },
     "execution_count": 5,
     "metadata": {},
     "output_type": "execute_result"
    },
    {
     "data": {
      "image/png": "[encoded data removed]",
      "text/plain": [
       "<Figure size 432x288 with 2 Axes>"
      ]
     },
     "metadata": {
      "needs_background": "light"
     },
     "output_type": "display_data"
    }
   ],
   "source": [
    "# 이미지 필터 적용\n",
    "vertical_filtered_image = get_filtered_image(vertical_filter)\n",
    "horizontal_fitered_image = get_filtered_image(horizontal_filter)\n",
    "import matplotlib.pyplot as plt\n",
    "\n",
    "#적용된 필터 그리기 \n",
    "plt.subplot(1,2,1)\n",
    "plt.title(\"vertical\")\n",
    "plt.imshow(vertical_filtered_image)\n",
    "\n",
    "plt.subplot(1,2,2)\n",
    "plt.title(\"horizonal\")\n",
    "plt.imshow(horizontal_fitered_image)\n",
    "\n",
    "plt.show"
   ]
  },
  {
   "cell_type": "code",
   "execution_count": 6,
   "metadata": {},
   "outputs": [
    {
     "data": {
      "text/plain": [
       "<matplotlib.image.AxesImage at 0x20d072fdf10>"
      ]
     },
     "execution_count": 6,
     "metadata": {},
     "output_type": "execute_result"
    },
    {
     "data": {
      "image/png": "[encoded data removed]",
      "text/plain": [
       "<Figure size 432x288 with 1 Axes>"
      ]
     },
     "metadata": {
      "needs_background": "light"
     },
     "output_type": "display_data"
    }
   ],
   "source": [
    "#이미지 필터 적용한 최종 결과\n",
    "sobel_image = np.sqrt(np.square(horizontal_fitered_image)+np.square(vertical_filtered_image))\n",
    "\n",
    "plt.imshow(sobel_image)"
   ]
  },
  {
   "cell_type": "code",
   "execution_count": 8,
   "metadata": {},
   "outputs": [
    {
     "name": "stdout",
     "output_type": "stream",
     "text": [
      "org image shape : 28,28\n",
      "new image shape : 14,14\n"
     ]
    },
    {
     "data": {
      "text/plain": [
       "<matplotlib.image.AxesImage at 0x20d073b4e50>"
      ]
     },
     "execution_count": 8,
     "metadata": {},
     "output_type": "execute_result"
    },
    {
     "data": {
      "image/png": "[encoded data removed]",
      "text/plain": [
       "<Figure size 432x288 with 1 Axes>"
      ]
     },
     "metadata": {
      "needs_background": "light"
     },
     "output_type": "display_data"
    }
   ],
   "source": [
    "# Pooling 연산\n",
    "import numpy as np\n",
    "image = x_train[0]\n",
    "image_x = image.shape[0]\n",
    "image_y = image.shape[1]\n",
    "new_image_x = int(image_x/2)\n",
    "new_image_y = int(image_y/2)\n",
    "\n",
    "pooled_image = np.zeros((new_image_x,new_image_y))\n",
    "\n",
    "print(\"org image shape : {},{}\".format(image_x,image_y))\n",
    "print(\"new image shape : {},{}\".format(new_image_x,new_image_y))\n",
    "\n",
    "for x in range(0,image_x,2):\n",
    "    for y in range(0,image_y,2):\n",
    "        pooled_image[int(x/2),int(y/2)] = np.max(image[x:x + 2,y:y+2])\n",
    "        \n",
    "plt.imshow(pooled_image)"
   ]
  },
  {
   "cell_type": "code",
   "execution_count": null,
   "metadata": {},
   "outputs": [],
   "source": []
  },
  {
   "cell_type": "code",
   "execution_count": null,
   "metadata": {},
   "outputs": [],
   "source": []
  }
 ],
 "metadata": {
  "kernelspec": {
   "display_name": "keras_study",
   "language": "python",
   "name": "keras_study"
  },
  "language_info": {
   "codemirror_mode": {
    "name": "ipython",
    "version": 3
   },
   "file_extension": ".py",
   "mimetype": "text/x-python",
   "name": "python",
   "nbconvert_exporter": "python",
   "pygments_lexer": "ipython3",
   "version": "3.8.5"
  }
 },
 "nbformat": 4,
 "nbformat_minor": 4
}
