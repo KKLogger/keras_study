{
 "cells": [
  {
   "cell_type": "code",
   "execution_count": 5,
   "metadata": {},
   "outputs": [],
   "source": [
    "import tensorflow as tf\n",
    "import numpy as np\n"
   ]
  },
  {
   "cell_type": "code",
   "execution_count": 30,
   "metadata": {},
   "outputs": [
    {
     "name": "stdout",
     "output_type": "stream",
     "text": [
      "Epoch 1/50\n",
      "1/1 [==============================] - 0s 975us/step - loss: 0.2646 - acc: 0.5000\n",
      "Epoch 2/50\n",
      "1/1 [==============================] - 0s 1ms/step - loss: 0.5000 - acc: 0.5000\n",
      "Epoch 3/50\n",
      "1/1 [==============================] - 0s 996us/step - loss: 0.5000 - acc: 0.5000\n",
      "Epoch 4/50\n",
      "1/1 [==============================] - 0s 1ms/step - loss: 0.5000 - acc: 0.5000\n",
      "Epoch 5/50\n",
      "1/1 [==============================] - 0s 1ms/step - loss: 0.5000 - acc: 0.5000\n",
      "Epoch 6/50\n",
      "1/1 [==============================] - 0s 0s/step - loss: 0.5000 - acc: 0.5000\n",
      "Epoch 7/50\n",
      "1/1 [==============================] - 0s 1ms/step - loss: 0.5000 - acc: 0.5000\n",
      "Epoch 8/50\n",
      "1/1 [==============================] - 0s 1ms/step - loss: 0.5000 - acc: 0.5000\n",
      "Epoch 9/50\n",
      "1/1 [==============================] - 0s 0s/step - loss: 0.5000 - acc: 0.5000\n",
      "Epoch 10/50\n",
      "1/1 [==============================] - 0s 1ms/step - loss: 0.5000 - acc: 0.5000\n",
      "Epoch 11/50\n",
      "1/1 [==============================] - 0s 1ms/step - loss: 0.5000 - acc: 0.5000\n",
      "Epoch 12/50\n",
      "1/1 [==============================] - 0s 0s/step - loss: 0.5000 - acc: 0.5000\n",
      "Epoch 13/50\n",
      "1/1 [==============================] - 0s 1000us/step - loss: 0.5000 - acc: 0.5000\n",
      "Epoch 14/50\n",
      "1/1 [==============================] - 0s 1ms/step - loss: 0.5000 - acc: 0.5000\n",
      "Epoch 15/50\n",
      "1/1 [==============================] - 0s 992us/step - loss: 0.5000 - acc: 0.5000\n",
      "Epoch 16/50\n",
      "1/1 [==============================] - 0s 1ms/step - loss: 0.5000 - acc: 0.5000\n",
      "Epoch 17/50\n",
      "1/1 [==============================] - 0s 1ms/step - loss: 0.5000 - acc: 0.5000\n",
      "Epoch 18/50\n",
      "1/1 [==============================] - 0s 0s/step - loss: 0.5000 - acc: 0.5000\n",
      "Epoch 19/50\n",
      "1/1 [==============================] - 0s 997us/step - loss: 0.5000 - acc: 0.5000\n",
      "Epoch 20/50\n",
      "1/1 [==============================] - 0s 0s/step - loss: 0.5000 - acc: 0.5000\n",
      "Epoch 21/50\n",
      "1/1 [==============================] - 0s 1ms/step - loss: 0.5000 - acc: 0.5000\n",
      "Epoch 22/50\n",
      "1/1 [==============================] - 0s 969us/step - loss: 0.5000 - acc: 0.5000\n",
      "Epoch 23/50\n",
      "1/1 [==============================] - 0s 0s/step - loss: 0.5000 - acc: 0.5000\n",
      "Epoch 24/50\n",
      "1/1 [==============================] - 0s 972us/step - loss: 0.5000 - acc: 0.5000\n",
      "Epoch 25/50\n",
      "1/1 [==============================] - 0s 1ms/step - loss: 0.5000 - acc: 0.5000\n",
      "Epoch 26/50\n",
      "1/1 [==============================] - 0s 1ms/step - loss: 0.5000 - acc: 0.5000\n",
      "Epoch 27/50\n",
      "1/1 [==============================] - 0s 1ms/step - loss: 0.5000 - acc: 0.5000\n",
      "Epoch 28/50\n",
      "1/1 [==============================] - 0s 0s/step - loss: 0.5000 - acc: 0.5000\n",
      "Epoch 29/50\n",
      "1/1 [==============================] - 0s 1ms/step - loss: 0.5000 - acc: 0.5000\n",
      "Epoch 30/50\n",
      "1/1 [==============================] - 0s 1ms/step - loss: 0.5000 - acc: 0.5000\n",
      "Epoch 31/50\n",
      "1/1 [==============================] - 0s 1ms/step - loss: 0.5000 - acc: 0.5000\n",
      "Epoch 32/50\n",
      "1/1 [==============================] - 0s 0s/step - loss: 0.5000 - acc: 0.5000\n",
      "Epoch 33/50\n",
      "1/1 [==============================] - 0s 998us/step - loss: 0.5000 - acc: 0.5000\n",
      "Epoch 34/50\n",
      "1/1 [==============================] - 0s 0s/step - loss: 0.5000 - acc: 0.5000\n",
      "Epoch 35/50\n",
      "1/1 [==============================] - 0s 998us/step - loss: 0.5000 - acc: 0.5000\n",
      "Epoch 36/50\n",
      "1/1 [==============================] - 0s 0s/step - loss: 0.5000 - acc: 0.5000\n",
      "Epoch 37/50\n",
      "1/1 [==============================] - 0s 0s/step - loss: 0.5000 - acc: 0.5000\n",
      "Epoch 38/50\n",
      "1/1 [==============================] - 0s 1ms/step - loss: 0.5000 - acc: 0.5000\n",
      "Epoch 39/50\n",
      "1/1 [==============================] - 0s 1ms/step - loss: 0.5000 - acc: 0.5000\n",
      "Epoch 40/50\n",
      "1/1 [==============================] - 0s 0s/step - loss: 0.5000 - acc: 0.5000\n",
      "Epoch 41/50\n",
      "1/1 [==============================] - 0s 1ms/step - loss: 0.5000 - acc: 0.5000\n",
      "Epoch 42/50\n",
      "1/1 [==============================] - 0s 1ms/step - loss: 0.5000 - acc: 0.5000\n",
      "Epoch 43/50\n",
      "1/1 [==============================] - 0s 0s/step - loss: 0.5000 - acc: 0.5000\n",
      "Epoch 44/50\n",
      "1/1 [==============================] - 0s 996us/step - loss: 0.5000 - acc: 0.5000\n",
      "Epoch 45/50\n",
      "1/1 [==============================] - 0s 2ms/step - loss: 0.5000 - acc: 0.5000\n",
      "Epoch 46/50\n",
      "1/1 [==============================] - 0s 0s/step - loss: 0.5000 - acc: 0.5000\n",
      "Epoch 47/50\n",
      "1/1 [==============================] - 0s 1ms/step - loss: 0.5000 - acc: 0.5000\n",
      "Epoch 48/50\n",
      "1/1 [==============================] - 0s 1ms/step - loss: 0.5000 - acc: 0.5000\n",
      "Epoch 49/50\n",
      "1/1 [==============================] - 0s 1000us/step - loss: 0.5000 - acc: 0.5000\n",
      "Epoch 50/50\n",
      "1/1 [==============================] - 0s 978us/step - loss: 0.5000 - acc: 0.5000\n"
     ]
    },
    {
     "data": {
      "text/plain": [
       "<tensorflow.python.keras.callbacks.History at 0x21101a0d340>"
      ]
     },
     "execution_count": 30,
     "metadata": {},
     "output_type": "execute_result"
    }
   ],
   "source": [
    "tf.random.set_seed(777)\n",
    "\n",
    "\n",
    "data = np.array([[0,0],[0,1],[1,0],[1,1]])\n",
    "label = np.array([[0],[1],[1],[0]])\n",
    "\n",
    "model = tf.keras.models.Sequential()\n",
    "model.add(tf.keras.layers.Dense(32,input_shape=(2,),activation=\"relu\"))\n",
    "model.add(tf.keras.layers.Dense(1,activation=\"sigmoid\"))\n",
    "\n",
    "model.compile(optimizer = tf.keras.optimizers.RMSprop(learning_rate=1),\n",
    "             loss = tf.keras.losses.mse,\n",
    "              metrics =['acc'])\n",
    "\n",
    "model.fit(data,label,epochs=50)"
   ]
  },
  {
   "cell_type": "code",
   "execution_count": 19,
   "metadata": {},
   "outputs": [
    {
     "name": "stdout",
     "output_type": "stream",
     "text": [
      "[[0.48656908]\n",
      " [0.55211586]\n",
      " [0.54643035]\n",
      " [0.44650382]]\n"
     ]
    }
   ],
   "source": [
    "result = model.predict(data)\n",
    "print(result)"
   ]
  },
  {
   "cell_type": "code",
   "execution_count": null,
   "metadata": {},
   "outputs": [],
   "source": []
  }
 ],
 "metadata": {
  "kernelspec": {
   "display_name": "keras_study",
   "language": "python",
   "name": "keras_study"
  },
  "language_info": {
   "codemirror_mode": {
    "name": "ipython",
    "version": 3
   },
   "file_extension": ".py",
   "mimetype": "text/x-python",
   "name": "python",
   "nbconvert_exporter": "python",
   "pygments_lexer": "ipython3",
   "version": "3.8.3"
  }
 },
 "nbformat": 4,
 "nbformat_minor": 4
}
