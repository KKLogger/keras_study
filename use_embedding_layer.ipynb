{
 "cells": [
  {
   "cell_type": "code",
   "execution_count": 1,
   "metadata": {},
   "outputs": [
    {
     "name": "stderr",
     "output_type": "stream",
     "text": [
      "WARNING:root:Limited tf.compat.v2.summary API due to missing TensorBoard installation.\n",
      "WARNING:root:Limited tf.compat.v2.summary API due to missing TensorBoard installation.\n",
      "WARNING:root:Limited tf.compat.v2.summary API due to missing TensorBoard installation.\n",
      "WARNING:root:Limited tf.summary API due to missing TensorBoard installation.\n"
     ]
    },
    {
     "name": "stdout",
     "output_type": "stream",
     "text": [
      "{'<OOV>': 1, 'you': 2, 'are': 3, 'the': 4, 'best': 5, 'nice': 6}\n",
      "[[2, 3, 4, 5], [2, 3, 4, 6]]\n",
      "[[0. 0. 1. 1. 1. 1. 0. 0. 0. 0.]\n",
      " [0. 0. 1. 1. 1. 0. 1. 0. 0. 0.]]\n",
      "[[[0. 0. 1. 0. 0. 0. 0.]\n",
      "  [0. 0. 0. 1. 0. 0. 0.]\n",
      "  [0. 0. 0. 0. 1. 0. 0.]\n",
      "  [0. 0. 0. 0. 0. 1. 0.]]\n",
      "\n",
      " [[0. 0. 1. 0. 0. 0. 0.]\n",
      "  [0. 0. 0. 1. 0. 0. 0.]\n",
      "  [0. 0. 0. 0. 1. 0. 0.]\n",
      "  [0. 0. 0. 0. 0. 0. 1.]]]\n",
      "[[2, 3, 4, 1]]\n",
      "{'<OOV>': 1, 'you': 2, 'are': 3, 'the': 4, 'best': 5, 'nice': 6}\n"
     ]
    }
   ],
   "source": [
    "from tensorflow.keras.preprocessing.text import Tokenizer\n",
    "from tensorflow.keras.utils import to_categorical\n",
    "\n",
    "texts = [\"You are the Best\"\n",
    "        ,\"You are the Nice\"]\n",
    "\n",
    "# text tokenize\n",
    "tokenizer = Tokenizer(num_words = 10, oov_token = \"<OOV>\") \n",
    "# 단어의 최대 개수 지정\n",
    "# 임의의 단어로 \"<OOV>\"를 지정하면 기존 단어에 존재하지 않는 단어 입력시 <OOV>의 자리를 대체\n",
    "tokenizer.fit_on_texts(texts)\n",
    "print(tokenizer.word_index)\n",
    "# token -> sequence 정수 인덱스 형태로 변환\n",
    "sequences = tokenizer.texts_to_sequences(texts)\n",
    "#texts_to_sequence는 각 토큰에 지정된 인덱스를 기준으로 주어진 문장을 인덱스로 변환\n",
    "print(sequences)\n",
    "# encoding to binary \n",
    "binary_results = tokenizer.sequences_to_matrix(sequences, mode = \"binary\")\n",
    "print(binary_results)\n",
    "\n",
    "# encoding to one-hot \n",
    "one_hot_results = to_categorical(sequences)\n",
    "print(one_hot_results)\n",
    "\n",
    "test_text = [\"You are the One\"]\n",
    "test_seq = tokenizer.texts_to_sequences(test_text)\n",
    "print(test_seq)\n",
    "print(tokenizer.word_index)"
   ]
  },
  {
   "cell_type": "code",
   "execution_count": 2,
   "metadata": {},
   "outputs": [
    {
     "name": "stdout",
     "output_type": "stream",
     "text": [
      "(25000,) (25000,)\n",
      "(25000,) (25000,)\n",
      "[1, 14, 22, 16, 43, 530, 973, 1622, 1385, 65, 458, 4468, 66, 3941, 4, 173, 36, 256, 5, 25, 100, 43, 838, 112, 50, 670, 2, 9, 35, 480, 284, 5, 150, 4, 172, 112, 167, 2, 336, 385, 39, 4, 172, 4536, 1111, 17, 546, 38, 13, 447, 4, 192, 50, 16, 6, 147, 2025, 19, 14, 22, 4, 1920, 4613, 469, 4, 22, 71, 87, 12, 16, 43, 530, 38, 76, 15, 13, 1247, 4, 22, 17, 515, 17, 12, 16, 626, 18, 2, 5, 62, 386, 12, 8, 316, 8, 106, 5, 4, 2223, 5244, 16, 480, 66, 3785, 33, 4, 130, 12, 16, 38, 619, 5, 25, 124, 51, 36, 135, 48, 25, 1415, 33, 6, 22, 12, 215, 28, 77, 52, 5, 14, 407, 16, 82, 2, 8, 4, 107, 117, 5952, 15, 256, 4, 2, 7, 3766, 5, 723, 36, 71, 43, 530, 476, 26, 400, 317, 46, 7, 4, 2, 1029, 13, 104, 88, 4, 381, 15, 297, 98, 32, 2071, 56, 26, 141, 6, 194, 7486, 18, 4, 226, 22, 21, 134, 476, 26, 480, 5, 144, 30, 5535, 18, 51, 36, 28, 224, 92, 25, 104, 4, 226, 65, 16, 38, 1334, 88, 12, 16, 283, 5, 16, 4472, 113, 103, 32, 15, 16, 5345, 19, 178, 32]\n",
      "1\n"
     ]
    }
   ],
   "source": [
    "# Data Load\n",
    "from tensorflow.keras.datasets import imdb\n",
    "\n",
    "num_words = 10000\n",
    "(x_train,y_train),(x_test,y_test) = imdb.load_data(num_words=num_words)\n",
    "\n",
    "print(x_train.shape,y_train.shape)\n",
    "print(x_test.shape,y_test.shape)\n",
    "print(x_train[0])\n",
    "print(y_train[0])"
   ]
  },
  {
   "cell_type": "code",
   "execution_count": 3,
   "metadata": {},
   "outputs": [
    {
     "name": "stdout",
     "output_type": "stream",
     "text": [
      "1순위 단어 : the\n",
      "2순위 단어 : and\n",
      "3순위 단어 : a\n"
     ]
    }
   ],
   "source": [
    "# 높은 빈도의 단어 확인\n",
    "imdb_get_word_index={}\n",
    "\n",
    "for key, value in imdb.get_word_index().items():\n",
    "    imdb_get_word_index[value] = key\n",
    "\n",
    "for i in range(1,4):\n",
    "    print(\"{}순위 단어 : {}\".format(i,imdb_get_word_index[i]))\n"
   ]
  },
  {
   "cell_type": "code",
   "execution_count": 4,
   "metadata": {},
   "outputs": [
    {
     "name": "stdout",
     "output_type": "stream",
     "text": [
      "before padding : 218\n",
      "after padding : 500\n"
     ]
    }
   ],
   "source": [
    "#Data Padding \n",
    "from tensorflow.keras.preprocessing.sequence import pad_sequences\n",
    "\n",
    "max_len = 500\n",
    "print(\"before padding : {}\".format(len(x_train[0])))\n",
    "\n",
    "pad_x_train = pad_sequences(x_train, maxlen = max_len, padding=\"pre\")\n",
    "pad_x_test = pad_sequences(x_test,maxlen=max_len, padding=\"pre\")\n",
    "\n",
    "print(\"after padding : {}\".format(len(pad_x_train[0])))"
   ]
  },
  {
   "cell_type": "code",
   "execution_count": 6,
   "metadata": {},
   "outputs": [
    {
     "name": "stdout",
     "output_type": "stream",
     "text": [
      "Model: \"sequential\"\n",
      "_________________________________________________________________\n",
      "Layer (type)                 Output Shape              Param #   \n",
      "=================================================================\n",
      "embedding (Embedding)        (None, 500, 32)           320000    \n",
      "_________________________________________________________________\n",
      "flatten (Flatten)            (None, 16000)             0         \n",
      "_________________________________________________________________\n",
      "dense (Dense)                (None, 1)                 16001     \n",
      "=================================================================\n",
      "Total params: 336,001\n",
      "Trainable params: 336,001\n",
      "Non-trainable params: 0\n",
      "_________________________________________________________________\n"
     ]
    }
   ],
   "source": [
    "#Create Model\n",
    "from tensorflow.keras.models import Sequential\n",
    "from tensorflow.keras.layers import Dense, Embedding, Flatten\n",
    "\n",
    "model = Sequential()\n",
    "#Embedding layer 는 모델의 제일 첫번째 층으로만 사용 가능\n",
    "model.add(Embedding(input_dim=num_words,output_dim=32,input_length = max_len))\n",
    "#Flatten layer를 사용하기 위해 input length를 전달 -> 출력 크기를 지정\n",
    "#input length는 다음 layer가 순환 신경망일 경우엔 사용 x \n",
    "model.add(Flatten())\n",
    "model.add(Dense(1,activation=\"sigmoid\"))\n",
    "\n",
    "model.compile(optimizer =\"adam\",\n",
    "             loss=\"binary_crossentropy\",\n",
    "             metrics = [\"acc\"])\n",
    "model.summary()"
   ]
  },
  {
   "cell_type": "code",
   "execution_count": 9,
   "metadata": {},
   "outputs": [
    {
     "name": "stdout",
     "output_type": "stream",
     "text": [
      "Epoch 1/30\n",
      "625/625 [==============================] - 3s 5ms/step - loss: 0.4527 - acc: 0.7793 - val_loss: 0.2981 - val_acc: 0.8780\n",
      "Epoch 2/30\n",
      "625/625 [==============================] - 3s 5ms/step - loss: 0.1995 - acc: 0.9256 - val_loss: 0.2757 - val_acc: 0.8888\n",
      "Epoch 3/30\n",
      "625/625 [==============================] - 3s 5ms/step - loss: 0.1063 - acc: 0.9691 - val_loss: 0.2888 - val_acc: 0.8904\n",
      "Epoch 4/30\n",
      "625/625 [==============================] - 3s 5ms/step - loss: 0.0509 - acc: 0.9909 - val_loss: 0.3096 - val_acc: 0.8886\n",
      "Epoch 5/30\n",
      "625/625 [==============================] - 3s 5ms/step - loss: 0.0236 - acc: 0.9980 - val_loss: 0.3372 - val_acc: 0.8858\n",
      "Epoch 6/30\n",
      "625/625 [==============================] - 3s 5ms/step - loss: 0.0118 - acc: 0.9995 - val_loss: 0.3600 - val_acc: 0.8848\n",
      "Epoch 7/30\n",
      "625/625 [==============================] - 3s 5ms/step - loss: 0.0064 - acc: 0.9998 - val_loss: 0.3837 - val_acc: 0.8826\n",
      "Epoch 8/30\n",
      "625/625 [==============================] - 3s 5ms/step - loss: 0.0037 - acc: 1.0000 - val_loss: 0.4065 - val_acc: 0.8834\n",
      "Epoch 9/30\n",
      "625/625 [==============================] - 3s 5ms/step - loss: 0.0023 - acc: 1.0000 - val_loss: 0.4286 - val_acc: 0.8842\n",
      "Epoch 10/30\n",
      "625/625 [==============================] - 3s 5ms/step - loss: 0.0014 - acc: 1.0000 - val_loss: 0.4466 - val_acc: 0.8818\n",
      "Epoch 11/30\n",
      "625/625 [==============================] - 3s 5ms/step - loss: 9.3675e-04 - acc: 1.0000 - val_loss: 0.4673 - val_acc: 0.8816\n",
      "Epoch 12/30\n",
      "625/625 [==============================] - 3s 5ms/step - loss: 6.2035e-04 - acc: 1.0000 - val_loss: 0.4850 - val_acc: 0.8820\n",
      "Epoch 13/30\n",
      "625/625 [==============================] - 3s 5ms/step - loss: 4.2061e-04 - acc: 1.0000 - val_loss: 0.5051 - val_acc: 0.8822\n",
      "Epoch 14/30\n",
      "625/625 [==============================] - 3s 5ms/step - loss: 2.9318e-04 - acc: 1.0000 - val_loss: 0.5225 - val_acc: 0.8800\n",
      "Epoch 15/30\n",
      "625/625 [==============================] - 3s 5ms/step - loss: 1.9715e-04 - acc: 1.0000 - val_loss: 0.5442 - val_acc: 0.8824\n",
      "Epoch 16/30\n",
      "625/625 [==============================] - 3s 5ms/step - loss: 1.3624e-04 - acc: 1.0000 - val_loss: 0.5608 - val_acc: 0.8820\n",
      "Epoch 17/30\n",
      "625/625 [==============================] - 3s 5ms/step - loss: 9.4409e-05 - acc: 1.0000 - val_loss: 0.5781 - val_acc: 0.8806\n",
      "Epoch 18/30\n",
      "625/625 [==============================] - 3s 5ms/step - loss: 6.6249e-05 - acc: 1.0000 - val_loss: 0.5952 - val_acc: 0.8814\n",
      "Epoch 19/30\n",
      "625/625 [==============================] - 3s 5ms/step - loss: 4.6196e-05 - acc: 1.0000 - val_loss: 0.6130 - val_acc: 0.8822\n",
      "Epoch 20/30\n",
      "625/625 [==============================] - 3s 5ms/step - loss: 3.2600e-05 - acc: 1.0000 - val_loss: 0.6308 - val_acc: 0.8818\n",
      "Epoch 21/30\n",
      "625/625 [==============================] - 3s 5ms/step - loss: 2.3096e-05 - acc: 1.0000 - val_loss: 0.6482 - val_acc: 0.8818\n",
      "Epoch 22/30\n",
      "625/625 [==============================] - 3s 5ms/step - loss: 1.6274e-05 - acc: 1.0000 - val_loss: 0.6643 - val_acc: 0.8804\n",
      "Epoch 23/30\n",
      "625/625 [==============================] - 3s 5ms/step - loss: 1.1623e-05 - acc: 1.0000 - val_loss: 0.6855 - val_acc: 0.8808\n",
      "Epoch 24/30\n",
      "625/625 [==============================] - 3s 5ms/step - loss: 8.2550e-06 - acc: 1.0000 - val_loss: 0.7017 - val_acc: 0.8812\n",
      "Epoch 25/30\n",
      "625/625 [==============================] - 3s 5ms/step - loss: 5.9466e-06 - acc: 1.0000 - val_loss: 0.7172 - val_acc: 0.8806\n",
      "Epoch 26/30\n",
      "625/625 [==============================] - 3s 5ms/step - loss: 4.3089e-06 - acc: 1.0000 - val_loss: 0.7326 - val_acc: 0.8806\n",
      "Epoch 27/30\n",
      "625/625 [==============================] - 3s 5ms/step - loss: 3.1105e-06 - acc: 1.0000 - val_loss: 0.7528 - val_acc: 0.8802\n",
      "Epoch 28/30\n",
      "625/625 [==============================] - 3s 5ms/step - loss: 2.2721e-06 - acc: 1.0000 - val_loss: 0.7674 - val_acc: 0.8804\n",
      "Epoch 29/30\n",
      "625/625 [==============================] - 4s 6ms/step - loss: 1.6697e-06 - acc: 1.0000 - val_loss: 0.7843 - val_acc: 0.8806\n",
      "Epoch 30/30\n",
      "625/625 [==============================] - 4s 6ms/step - loss: 1.2449e-06 - acc: 1.0000 - val_loss: 0.7986 - val_acc: 0.8808\n"
     ]
    }
   ],
   "source": [
    "history = model.fit(pad_x_train,y_train,\n",
    "                   batch_size=32,\n",
    "                   epochs= 30,\n",
    "                   validation_split=0.2)"
   ]
  },
  {
   "cell_type": "code",
   "execution_count": 11,
   "metadata": {},
   "outputs": [
    {
     "name": "stdout",
     "output_type": "stream",
     "text": [
      "782/782 [==============================] - 1s 1ms/step - loss: 0.7993 - acc: 0.8721\n"
     ]
    },
    {
     "data": {
      "text/plain": [
       "[0.7993217706680298, 0.8720800280570984]"
      ]
     },
     "execution_count": 11,
     "metadata": {},
     "output_type": "execute_result"
    }
   ],
   "source": [
    "model.evaluate(pad_x_test,y_test)"
   ]
  },
  {
   "cell_type": "code",
   "execution_count": 13,
   "metadata": {},
   "outputs": [
    {
     "data": {
      "image/png": "[encoded data removed]",
      "text/plain": [
       "<Figure size 720x360 with 2 Axes>"
      ]
     },
     "metadata": {
      "needs_background": "light"
     },
     "output_type": "display_data"
    }
   ],
   "source": [
    "import matplotlib.pyplot as plt\n",
    "\n",
    "his_dict = history.history \n",
    "loss = his_dict[\"loss\"]\n",
    "val_loss = his_dict[\"val_loss\"]\n",
    "\n",
    "epochs = range(1,len(loss)+1)\n",
    "fig = plt.figure(figsize = (10,5))\n",
    "\n",
    "ax1 = fig.add_subplot(1,2,1)\n",
    "ax1.plot(epochs,loss,color=\"blue\",label=\"train_loss\")\n",
    "ax1.plot(epochs,val_loss,color=\"orange\",label=\"val_loss\")\n",
    "ax1.set_title(\"train and val loss\")\n",
    "ax1.set_xlabel(\"epochs\")\n",
    "ax1.set_ylabel(\"loss\")\n",
    "ax1.legend()\n",
    "\n",
    "acc = his_dict[\"acc\"]\n",
    "val_acc = his_dict[\"val_acc\"]\n",
    "\n",
    "ax2 = fig.add_subplot(1,2,2)\n",
    "ax2.plot(epochs,acc,color=\"blue\",label=\"train_acc\")\n",
    "ax2.plot(epochs,val_acc,color=\"orange\",label=\"val_acc\")\n",
    "ax2.set_title(\"train and val acc\")\n",
    "ax2.set_xlabel(\"epochs\")\n",
    "ax2.set_ylabel(\"acc\")\n",
    "ax2.legend()\n",
    "plt.show()\n"
   ]
  },
  {
   "cell_type": "code",
   "execution_count": null,
   "metadata": {},
   "outputs": [],
   "source": []
  }
 ],
 "metadata": {
  "kernelspec": {
   "display_name": "keras_study",
   "language": "python",
   "name": "keras_study"
  },
  "language_info": {
   "codemirror_mode": {
    "name": "ipython",
    "version": 3
   },
   "file_extension": ".py",
   "mimetype": "text/x-python",
   "name": "python",
   "nbconvert_exporter": "python",
   "pygments_lexer": "ipython3",
   "version": "3.8.5"
  }
 },
 "nbformat": 4,
 "nbformat_minor": 4
}
