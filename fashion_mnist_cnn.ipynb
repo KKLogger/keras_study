{
 "cells": [
  {
   "cell_type": "code",
   "execution_count": 1,
   "metadata": {},
   "outputs": [
    {
     "name": "stderr",
     "output_type": "stream",
     "text": [
      "WARNING:root:Limited tf.compat.v2.summary API due to missing TensorBoard installation.\n",
      "WARNING:root:Limited tf.compat.v2.summary API due to missing TensorBoard installation.\n",
      "WARNING:root:Limited tf.compat.v2.summary API due to missing TensorBoard installation.\n",
      "WARNING:root:Limited tf.summary API due to missing TensorBoard installation.\n"
     ]
    }
   ],
   "source": [
    "#데이터 가져오기\n",
    "from tensorflow.keras.datasets import fashion_mnist\n",
    "\n",
    "(x_train,y_train),(x_test,y_test) = fashion_mnist.load_data()"
   ]
  },
  {
   "cell_type": "code",
   "execution_count": 2,
   "metadata": {},
   "outputs": [],
   "source": [
    "#무작위 데이터 만들기\n",
    "import matplotlib.pyplot as plt\n",
    "import numpy as np\n",
    "np.random.seed(777)\n",
    "\n",
    "sample_size = 9\n",
    "random_idx = np.random.randint(60000,size=sample_size)"
   ]
  },
  {
   "cell_type": "code",
   "execution_count": 3,
   "metadata": {},
   "outputs": [],
   "source": [
    "# 데이터 전처리\n",
    "class_names = ['T-shirt/top','Trouser','Pullover','Dress','Coat','Sandal','Shirt','Sneaker','Bag','Ankle boot']\n",
    "#  X data 룰 0 ~ 1 사이의 값으로 만든다\n",
    "x_train = np.reshape(x_train/255,(-1,28,28,1))\n",
    "x_test = np.reshape(x_test/255,(-1,28,28,1))\n",
    "\n",
    "from tensorflow.keras.utils import to_categorical\n",
    "\n",
    "y_train = to_categorical(y_train)\n",
    "y_test = to_categorical(y_test)\n",
    "\n",
    "from sklearn.model_selection import train_test_split\n",
    "x_train,x_val,y_train,y_val =train_test_split(x_train,y_train,\n",
    "                                             test_size=0.3,\n",
    "                                              random_state = 777)"
   ]
  },
  {
   "cell_type": "code",
   "execution_count": 4,
   "metadata": {},
   "outputs": [],
   "source": [
    "#모델 구성하기\n",
    "from tensorflow.keras.models import Sequential\n",
    "from tensorflow.keras.layers import Conv2D, MaxPool2D, Dense,Flatten\n",
    "\n",
    "model = Sequential([\n",
    "    Conv2D(filters= 16, kernel_size= 3, padding = \"same\",\n",
    "           activation = \"relu\", input_shape = (28,28,1)),\n",
    "    MaxPool2D(pool_size = (2,2), strides = 2, padding=\"same\"),\n",
    "    Conv2D(filters= 32, kernel_size= 3, padding = \"same\",\n",
    "           activation = \"relu\", input_shape = (28,28,1)),\n",
    "    MaxPool2D(pool_size = (2,2), strides = 2, padding=\"same\"),\n",
    "    Conv2D(filters= 64, kernel_size= 3, padding = \"same\",\n",
    "           activation = \"relu\", input_shape = (28,28,1)),\n",
    "    MaxPool2D(pool_size = (2,2), strides = 2, padding=\"same\"),\n",
    "    Flatten(),\n",
    "    Dense(64,activation = \"relu\"),\n",
    "    Dense(10,activation = \"softmax\")\n",
    "])"
   ]
  },
  {
   "cell_type": "code",
   "execution_count": 5,
   "metadata": {},
   "outputs": [
    {
     "name": "stdout",
     "output_type": "stream",
     "text": [
      "Epoch 1/10\n",
      "329/329 [==============================] - 12s 38ms/step - loss: 0.6696 - acc: 0.7569 - val_loss: 0.4235 - val_acc: 0.8490\n",
      "Epoch 2/10\n",
      "329/329 [==============================] - 12s 36ms/step - loss: 0.3915 - acc: 0.8603 - val_loss: 0.3593 - val_acc: 0.8741\n",
      "Epoch 3/10\n",
      "329/329 [==============================] - 12s 37ms/step - loss: 0.3367 - acc: 0.8770 - val_loss: 0.3162 - val_acc: 0.8904\n",
      "Epoch 4/10\n",
      "329/329 [==============================] - 14s 42ms/step - loss: 0.3082 - acc: 0.8877 - val_loss: 0.3027 - val_acc: 0.8902\n",
      "Epoch 5/10\n",
      "329/329 [==============================] - 13s 41ms/step - loss: 0.2842 - acc: 0.8968 - val_loss: 0.3087 - val_acc: 0.8868\n",
      "Epoch 6/10\n",
      "329/329 [==============================] - 12s 36ms/step - loss: 0.2647 - acc: 0.9036 - val_loss: 0.2815 - val_acc: 0.9012\n",
      "Epoch 7/10\n",
      "329/329 [==============================] - 12s 38ms/step - loss: 0.2489 - acc: 0.9080 - val_loss: 0.2605 - val_acc: 0.9034\n",
      "Epoch 8/10\n",
      "329/329 [==============================] - 13s 38ms/step - loss: 0.2349 - acc: 0.9153 - val_loss: 0.2497 - val_acc: 0.9111\n",
      "Epoch 9/10\n",
      "329/329 [==============================] - 12s 36ms/step - loss: 0.2217 - acc: 0.9193 - val_loss: 0.2514 - val_acc: 0.9136\n",
      "Epoch 10/10\n",
      "329/329 [==============================] - 12s 35ms/step - loss: 0.2061 - acc: 0.9241 - val_loss: 0.2748 - val_acc: 0.9017\n"
     ]
    }
   ],
   "source": [
    "#모델 학습\n",
    "model.compile(optimizer =\"adam\",\n",
    "             loss = \"categorical_crossentropy\",\n",
    "             metrics = [\"acc\"])\n",
    "\n",
    "history = model.fit(x_train,y_train,\n",
    "         epochs = 10,\n",
    "         batch_size =128,\n",
    "         validation_data = (x_val,y_val))"
   ]
  },
  {
   "cell_type": "code",
   "execution_count": 6,
   "metadata": {},
   "outputs": [
    {
     "name": "stdout",
     "output_type": "stream",
     "text": [
      "Model: \"sequential\"\n",
      "_________________________________________________________________\n",
      "Layer (type)                 Output Shape              Param #   \n",
      "=================================================================\n",
      "conv2d (Conv2D)              (None, 28, 28, 16)        160       \n",
      "_________________________________________________________________\n",
      "max_pooling2d (MaxPooling2D) (None, 14, 14, 16)        0         \n",
      "_________________________________________________________________\n",
      "conv2d_1 (Conv2D)            (None, 14, 14, 32)        4640      \n",
      "_________________________________________________________________\n",
      "max_pooling2d_1 (MaxPooling2 (None, 7, 7, 32)          0         \n",
      "_________________________________________________________________\n",
      "conv2d_2 (Conv2D)            (None, 7, 7, 64)          18496     \n",
      "_________________________________________________________________\n",
      "max_pooling2d_2 (MaxPooling2 (None, 4, 4, 64)          0         \n",
      "_________________________________________________________________\n",
      "flatten (Flatten)            (None, 1024)              0         \n",
      "_________________________________________________________________\n",
      "dense (Dense)                (None, 64)                65600     \n",
      "_________________________________________________________________\n",
      "dense_1 (Dense)              (None, 10)                650       \n",
      "=================================================================\n",
      "Total params: 89,546\n",
      "Trainable params: 89,546\n",
      "Non-trainable params: 0\n",
      "_________________________________________________________________\n"
     ]
    }
   ],
   "source": [
    "model.summary()"
   ]
  },
  {
   "cell_type": "code",
   "execution_count": 7,
   "metadata": {},
   "outputs": [
    {
     "name": "stdout",
     "output_type": "stream",
     "text": [
      "('Failed to import pydot. You must `pip install pydot` and install graphviz (https://graphviz.gitlab.io/download/), ', 'for `pydotprint` to work.')\n"
     ]
    }
   ],
   "source": [
    "from tensorflow.keras.utils import plot_model\n",
    "plot_model(model,'./model.png',show_shapes=True)"
   ]
  },
  {
   "cell_type": "code",
   "execution_count": null,
   "metadata": {},
   "outputs": [],
   "source": []
  }
 ],
 "metadata": {
  "kernelspec": {
   "display_name": "keras_study",
   "language": "python",
   "name": "keras_study"
  },
  "language_info": {
   "codemirror_mode": {
    "name": "ipython",
    "version": 3
   },
   "file_extension": ".py",
   "mimetype": "text/x-python",
   "name": "python",
   "nbconvert_exporter": "python",
   "pygments_lexer": "ipython3",
   "version": "3.8.5"
  }
 },
 "nbformat": 4,
 "nbformat_minor": 4
}
